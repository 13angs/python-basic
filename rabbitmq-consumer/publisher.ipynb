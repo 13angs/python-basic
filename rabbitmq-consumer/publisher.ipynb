{
 "cells": [
  {
   "cell_type": "code",
   "execution_count": 35,
   "metadata": {},
   "outputs": [],
   "source": [
    "import pika\n",
    "import json\n",
    "\n",
    "class Publisher:\n",
    "    def __init__(self, host) -> None:\n",
    "        self.connection = pika.BlockingConnection(\n",
    "            pika.ConnectionParameters(host=host))\n",
    "        self.channel = self.connection.channel()\n",
    "    \n",
    "    def setup(self, exchange, exchange_type, queue_name) -> None:\n",
    "        self.channel.queue_declare(queue=queue_name)\n",
    "        self.channel.exchange_declare(exchange=exchange, exchange_type=exchange_type)\n",
    "    \n",
    "    def run(self, exchange, routing_key, message) -> None:\n",
    "        body = bytes(json.dumps(message), encoding='utf-8')\n",
    "        self.channel.basic_publish(exchange=exchange, routing_key=routing_key, body=body)\n",
    "        print(f\" [x] Sent {body}\")\n",
    "    \n",
    "    def close(self):\n",
    "        self.connection.close()"
   ]
  },
  {
   "cell_type": "code",
   "execution_count": 36,
   "metadata": {},
   "outputs": [
    {
     "name": "stdout",
     "output_type": "stream",
     "text": [
      " [x] Sent b'{\"name\": \"romdon\"}'\n"
     ]
    }
   ],
   "source": [
    "publisher = Publisher('eng-rabbitmq-management')\n",
    "publisher.setup(exchange='hello_exchange', exchange_type='topic', queue_name='hello')\n",
    "publisher.run(exchange='hello_exchange', routing_key='hello.pika', message={\"name\": 'romdon'})\n",
    "publisher.close()"
   ]
  },
  {
   "cell_type": "code",
   "execution_count": null,
   "metadata": {},
   "outputs": [],
   "source": []
  }
 ],
 "metadata": {
  "kernelspec": {
   "display_name": "Python 3.9.13 ('base')",
   "language": "python",
   "name": "python3"
  },
  "language_info": {
   "codemirror_mode": {
    "name": "ipython",
    "version": 3
   },
   "file_extension": ".py",
   "mimetype": "text/x-python",
   "name": "python",
   "nbconvert_exporter": "python",
   "pygments_lexer": "ipython3",
   "version": "3.9.13"
  },
  "orig_nbformat": 4,
  "vscode": {
   "interpreter": {
    "hash": "d4d1e4263499bec80672ea0156c357c1ee493ec2b1c70f0acce89fc37c4a6abe"
   }
  }
 },
 "nbformat": 4,
 "nbformat_minor": 2
}
